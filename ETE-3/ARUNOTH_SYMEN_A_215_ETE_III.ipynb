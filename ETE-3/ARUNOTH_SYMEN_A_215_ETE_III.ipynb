{
  "nbformat": 4,
  "nbformat_minor": 0,
  "metadata": {
    "colab": {
      "provenance": [],
      "gpuType": "T4"
    },
    "kernelspec": {
      "name": "python3",
      "display_name": "Python 3"
    },
    "language_info": {
      "name": "python"
    },
    "accelerator": "GPU"
  },
  "cells": [
    {
      "cell_type": "markdown",
      "source": [
        "**ETE III - LAB TEST**   \n",
        "**Arunoth Symen A - 2347215**"
      ],
      "metadata": {
        "id": "M4M333GmascW"
      }
    },
    {
      "cell_type": "markdown",
      "source": [
        "**Question 1 - LSTM Autoencoder**     \n",
        "*Objective:*     \n",
        "You are required to build an LSTM Autoencoder to detect anomalies in a time series dataset. The dataset contains daily temperature readings from a weather station over the course of a few years. Parameters in the dataset [Date and Temperature]"
      ],
      "metadata": {
        "id": "aIW8RMkcaGlp"
      }
    },
    {
      "cell_type": "markdown",
      "source": [
        "Importing the required libraries"
      ],
      "metadata": {
        "id": "NahhM24wRBi0"
      }
    },
    {
      "cell_type": "code",
      "source": [
        "import pandas as pd\n",
        "import numpy as np\n",
        "import matplotlib.pyplot as plt\n",
        "from sklearn.preprocessing import MinMaxScaler\n",
        "from sklearn.model_selection import train_test_split\n",
        "from keras.models import Sequential\n",
        "from keras.layers import LSTM, Dense, RepeatVector, TimeDistributed\n",
        "from keras import backend as K"
      ],
      "metadata": {
        "id": "jQDfEdGcQ_EY"
      },
      "execution_count": null,
      "outputs": []
    },
    {
      "cell_type": "markdown",
      "source": [
        "1. Load the dataset: The dataset will contain a single column temperature and a date column."
      ],
      "metadata": {
        "id": "Z_5bDDylRLIk"
      }
    },
    {
      "cell_type": "code",
      "source": [
        "# Step 1: Load the dataset from CSV\n",
        "\n",
        "file_path = '/content/weather_data.csv'\n",
        "df = pd.read_csv(file_path)\n",
        "\n",
        "# Ensure the 'date' column is in datetime format\n",
        "df['date'] = pd.to_datetime(df['date'])\n",
        "df.set_index('date', inplace=True)\n",
        "df.head()"
      ],
      "metadata": {
        "colab": {
          "base_uri": "https://localhost:8080/",
          "height": 238
        },
        "id": "v3KZvQylQ_BD",
        "outputId": "bd8f3f05-0d0e-41b2-9be1-a836397f5a27"
      },
      "execution_count": null,
      "outputs": [
        {
          "output_type": "execute_result",
          "data": {
            "text/plain": [
              "            temperature\n",
              "date                   \n",
              "2014-01-01    10.248357\n",
              "2014-01-02     9.950428\n",
              "2014-01-03    10.362958\n",
              "2014-01-04    10.820167\n",
              "2014-01-05     9.961091"
            ],
            "text/html": [
              "\n",
              "  <div id=\"df-777dc004-b0db-4116-833f-1fc6e62c5d3c\" class=\"colab-df-container\">\n",
              "    <div>\n",
              "<style scoped>\n",
              "    .dataframe tbody tr th:only-of-type {\n",
              "        vertical-align: middle;\n",
              "    }\n",
              "\n",
              "    .dataframe tbody tr th {\n",
              "        vertical-align: top;\n",
              "    }\n",
              "\n",
              "    .dataframe thead th {\n",
              "        text-align: right;\n",
              "    }\n",
              "</style>\n",
              "<table border=\"1\" class=\"dataframe\">\n",
              "  <thead>\n",
              "    <tr style=\"text-align: right;\">\n",
              "      <th></th>\n",
              "      <th>temperature</th>\n",
              "    </tr>\n",
              "    <tr>\n",
              "      <th>date</th>\n",
              "      <th></th>\n",
              "    </tr>\n",
              "  </thead>\n",
              "  <tbody>\n",
              "    <tr>\n",
              "      <th>2014-01-01</th>\n",
              "      <td>10.248357</td>\n",
              "    </tr>\n",
              "    <tr>\n",
              "      <th>2014-01-02</th>\n",
              "      <td>9.950428</td>\n",
              "    </tr>\n",
              "    <tr>\n",
              "      <th>2014-01-03</th>\n",
              "      <td>10.362958</td>\n",
              "    </tr>\n",
              "    <tr>\n",
              "      <th>2014-01-04</th>\n",
              "      <td>10.820167</td>\n",
              "    </tr>\n",
              "    <tr>\n",
              "      <th>2014-01-05</th>\n",
              "      <td>9.961091</td>\n",
              "    </tr>\n",
              "  </tbody>\n",
              "</table>\n",
              "</div>\n",
              "    <div class=\"colab-df-buttons\">\n",
              "\n",
              "  <div class=\"colab-df-container\">\n",
              "    <button class=\"colab-df-convert\" onclick=\"convertToInteractive('df-777dc004-b0db-4116-833f-1fc6e62c5d3c')\"\n",
              "            title=\"Convert this dataframe to an interactive table.\"\n",
              "            style=\"display:none;\">\n",
              "\n",
              "  <svg xmlns=\"http://www.w3.org/2000/svg\" height=\"24px\" viewBox=\"0 -960 960 960\">\n",
              "    <path d=\"M120-120v-720h720v720H120Zm60-500h600v-160H180v160Zm220 220h160v-160H400v160Zm0 220h160v-160H400v160ZM180-400h160v-160H180v160Zm440 0h160v-160H620v160ZM180-180h160v-160H180v160Zm440 0h160v-160H620v160Z\"/>\n",
              "  </svg>\n",
              "    </button>\n",
              "\n",
              "  <style>\n",
              "    .colab-df-container {\n",
              "      display:flex;\n",
              "      gap: 12px;\n",
              "    }\n",
              "\n",
              "    .colab-df-convert {\n",
              "      background-color: #E8F0FE;\n",
              "      border: none;\n",
              "      border-radius: 50%;\n",
              "      cursor: pointer;\n",
              "      display: none;\n",
              "      fill: #1967D2;\n",
              "      height: 32px;\n",
              "      padding: 0 0 0 0;\n",
              "      width: 32px;\n",
              "    }\n",
              "\n",
              "    .colab-df-convert:hover {\n",
              "      background-color: #E2EBFA;\n",
              "      box-shadow: 0px 1px 2px rgba(60, 64, 67, 0.3), 0px 1px 3px 1px rgba(60, 64, 67, 0.15);\n",
              "      fill: #174EA6;\n",
              "    }\n",
              "\n",
              "    .colab-df-buttons div {\n",
              "      margin-bottom: 4px;\n",
              "    }\n",
              "\n",
              "    [theme=dark] .colab-df-convert {\n",
              "      background-color: #3B4455;\n",
              "      fill: #D2E3FC;\n",
              "    }\n",
              "\n",
              "    [theme=dark] .colab-df-convert:hover {\n",
              "      background-color: #434B5C;\n",
              "      box-shadow: 0px 1px 3px 1px rgba(0, 0, 0, 0.15);\n",
              "      filter: drop-shadow(0px 1px 2px rgba(0, 0, 0, 0.3));\n",
              "      fill: #FFFFFF;\n",
              "    }\n",
              "  </style>\n",
              "\n",
              "    <script>\n",
              "      const buttonEl =\n",
              "        document.querySelector('#df-777dc004-b0db-4116-833f-1fc6e62c5d3c button.colab-df-convert');\n",
              "      buttonEl.style.display =\n",
              "        google.colab.kernel.accessAllowed ? 'block' : 'none';\n",
              "\n",
              "      async function convertToInteractive(key) {\n",
              "        const element = document.querySelector('#df-777dc004-b0db-4116-833f-1fc6e62c5d3c');\n",
              "        const dataTable =\n",
              "          await google.colab.kernel.invokeFunction('convertToInteractive',\n",
              "                                                    [key], {});\n",
              "        if (!dataTable) return;\n",
              "\n",
              "        const docLinkHtml = 'Like what you see? Visit the ' +\n",
              "          '<a target=\"_blank\" href=https://colab.research.google.com/notebooks/data_table.ipynb>data table notebook</a>'\n",
              "          + ' to learn more about interactive tables.';\n",
              "        element.innerHTML = '';\n",
              "        dataTable['output_type'] = 'display_data';\n",
              "        await google.colab.output.renderOutput(dataTable, element);\n",
              "        const docLink = document.createElement('div');\n",
              "        docLink.innerHTML = docLinkHtml;\n",
              "        element.appendChild(docLink);\n",
              "      }\n",
              "    </script>\n",
              "  </div>\n",
              "\n",
              "\n",
              "<div id=\"df-da1f9a59-feb3-44a3-8858-7aab40d3c1de\">\n",
              "  <button class=\"colab-df-quickchart\" onclick=\"quickchart('df-da1f9a59-feb3-44a3-8858-7aab40d3c1de')\"\n",
              "            title=\"Suggest charts\"\n",
              "            style=\"display:none;\">\n",
              "\n",
              "<svg xmlns=\"http://www.w3.org/2000/svg\" height=\"24px\"viewBox=\"0 0 24 24\"\n",
              "     width=\"24px\">\n",
              "    <g>\n",
              "        <path d=\"M19 3H5c-1.1 0-2 .9-2 2v14c0 1.1.9 2 2 2h14c1.1 0 2-.9 2-2V5c0-1.1-.9-2-2-2zM9 17H7v-7h2v7zm4 0h-2V7h2v10zm4 0h-2v-4h2v4z\"/>\n",
              "    </g>\n",
              "</svg>\n",
              "  </button>\n",
              "\n",
              "<style>\n",
              "  .colab-df-quickchart {\n",
              "      --bg-color: #E8F0FE;\n",
              "      --fill-color: #1967D2;\n",
              "      --hover-bg-color: #E2EBFA;\n",
              "      --hover-fill-color: #174EA6;\n",
              "      --disabled-fill-color: #AAA;\n",
              "      --disabled-bg-color: #DDD;\n",
              "  }\n",
              "\n",
              "  [theme=dark] .colab-df-quickchart {\n",
              "      --bg-color: #3B4455;\n",
              "      --fill-color: #D2E3FC;\n",
              "      --hover-bg-color: #434B5C;\n",
              "      --hover-fill-color: #FFFFFF;\n",
              "      --disabled-bg-color: #3B4455;\n",
              "      --disabled-fill-color: #666;\n",
              "  }\n",
              "\n",
              "  .colab-df-quickchart {\n",
              "    background-color: var(--bg-color);\n",
              "    border: none;\n",
              "    border-radius: 50%;\n",
              "    cursor: pointer;\n",
              "    display: none;\n",
              "    fill: var(--fill-color);\n",
              "    height: 32px;\n",
              "    padding: 0;\n",
              "    width: 32px;\n",
              "  }\n",
              "\n",
              "  .colab-df-quickchart:hover {\n",
              "    background-color: var(--hover-bg-color);\n",
              "    box-shadow: 0 1px 2px rgba(60, 64, 67, 0.3), 0 1px 3px 1px rgba(60, 64, 67, 0.15);\n",
              "    fill: var(--button-hover-fill-color);\n",
              "  }\n",
              "\n",
              "  .colab-df-quickchart-complete:disabled,\n",
              "  .colab-df-quickchart-complete:disabled:hover {\n",
              "    background-color: var(--disabled-bg-color);\n",
              "    fill: var(--disabled-fill-color);\n",
              "    box-shadow: none;\n",
              "  }\n",
              "\n",
              "  .colab-df-spinner {\n",
              "    border: 2px solid var(--fill-color);\n",
              "    border-color: transparent;\n",
              "    border-bottom-color: var(--fill-color);\n",
              "    animation:\n",
              "      spin 1s steps(1) infinite;\n",
              "  }\n",
              "\n",
              "  @keyframes spin {\n",
              "    0% {\n",
              "      border-color: transparent;\n",
              "      border-bottom-color: var(--fill-color);\n",
              "      border-left-color: var(--fill-color);\n",
              "    }\n",
              "    20% {\n",
              "      border-color: transparent;\n",
              "      border-left-color: var(--fill-color);\n",
              "      border-top-color: var(--fill-color);\n",
              "    }\n",
              "    30% {\n",
              "      border-color: transparent;\n",
              "      border-left-color: var(--fill-color);\n",
              "      border-top-color: var(--fill-color);\n",
              "      border-right-color: var(--fill-color);\n",
              "    }\n",
              "    40% {\n",
              "      border-color: transparent;\n",
              "      border-right-color: var(--fill-color);\n",
              "      border-top-color: var(--fill-color);\n",
              "    }\n",
              "    60% {\n",
              "      border-color: transparent;\n",
              "      border-right-color: var(--fill-color);\n",
              "    }\n",
              "    80% {\n",
              "      border-color: transparent;\n",
              "      border-right-color: var(--fill-color);\n",
              "      border-bottom-color: var(--fill-color);\n",
              "    }\n",
              "    90% {\n",
              "      border-color: transparent;\n",
              "      border-bottom-color: var(--fill-color);\n",
              "    }\n",
              "  }\n",
              "</style>\n",
              "\n",
              "  <script>\n",
              "    async function quickchart(key) {\n",
              "      const quickchartButtonEl =\n",
              "        document.querySelector('#' + key + ' button');\n",
              "      quickchartButtonEl.disabled = true;  // To prevent multiple clicks.\n",
              "      quickchartButtonEl.classList.add('colab-df-spinner');\n",
              "      try {\n",
              "        const charts = await google.colab.kernel.invokeFunction(\n",
              "            'suggestCharts', [key], {});\n",
              "      } catch (error) {\n",
              "        console.error('Error during call to suggestCharts:', error);\n",
              "      }\n",
              "      quickchartButtonEl.classList.remove('colab-df-spinner');\n",
              "      quickchartButtonEl.classList.add('colab-df-quickchart-complete');\n",
              "    }\n",
              "    (() => {\n",
              "      let quickchartButtonEl =\n",
              "        document.querySelector('#df-da1f9a59-feb3-44a3-8858-7aab40d3c1de button');\n",
              "      quickchartButtonEl.style.display =\n",
              "        google.colab.kernel.accessAllowed ? 'block' : 'none';\n",
              "    })();\n",
              "  </script>\n",
              "</div>\n",
              "\n",
              "    </div>\n",
              "  </div>\n"
            ],
            "application/vnd.google.colaboratory.intrinsic+json": {
              "type": "dataframe",
              "variable_name": "df",
              "summary": "{\n  \"name\": \"df\",\n  \"rows\": 2557,\n  \"fields\": [\n    {\n      \"column\": \"date\",\n      \"properties\": {\n        \"dtype\": \"date\",\n        \"min\": \"2014-01-01 00:00:00\",\n        \"max\": \"2020-12-31 00:00:00\",\n        \"num_unique_values\": 2557,\n        \"samples\": [\n          \"2020-11-28 00:00:00\",\n          \"2018-10-17 00:00:00\",\n          \"2019-08-14 00:00:00\"\n        ],\n        \"semantic_type\": \"\",\n        \"description\": \"\"\n      }\n    },\n    {\n      \"column\": \"temperature\",\n      \"properties\": {\n        \"dtype\": \"number\",\n        \"std\": 0.9230468233703436,\n        \"min\": 3.337290504156885,\n        \"max\": 15.587945389869995,\n        \"num_unique_values\": 2557,\n        \"samples\": [\n          9.053104358661429,\n          8.967069348492775,\n          10.225384339811123\n        ],\n        \"semantic_type\": \"\",\n        \"description\": \"\"\n      }\n    }\n  ]\n}"
            }
          },
          "metadata": {},
          "execution_count": 3
        }
      ]
    },
    {
      "cell_type": "markdown",
      "source": [
        "2. Preprocess the data: Normalize the temperature data and split it into training and testing\n",
        "sets."
      ],
      "metadata": {
        "id": "aP_mHBtVRhrk"
      }
    },
    {
      "cell_type": "markdown",
      "source": [
        "Preprocessing:\n",
        "\n",
        "* The temperature data was normalized for efficient training.   \n",
        "* Data was split into training and testing sets while maintaining time-series integrity."
      ],
      "metadata": {
        "id": "Ki_a7nqHa2_X"
      }
    },
    {
      "cell_type": "code",
      "source": [
        "# Step 2: Preprocess the data\n",
        "scaler = MinMaxScaler()\n",
        "df['temperature_normalized'] = scaler.fit_transform(df[['temperature']])\n",
        "\n",
        "# Prepare sequences for LSTM\n",
        "def create_sequences(data, sequence_length):\n",
        "    sequences = []\n",
        "    for i in range(len(data) - sequence_length + 1):\n",
        "        seq = data[i:i + sequence_length]\n",
        "        sequences.append(seq)\n",
        "    return np.array(sequences)\n",
        "\n",
        "sequence_length = 5\n",
        "sequences = create_sequences(df['temperature_normalized'].values, sequence_length)\n",
        "\n",
        "# Split into training and testing sets\n",
        "train_size = int(0.7 * len(sequences))\n",
        "train_data = sequences[:train_size]\n",
        "test_data = sequences[train_size:]"
      ],
      "metadata": {
        "id": "TtSnsBAuQ-81"
      },
      "execution_count": null,
      "outputs": []
    },
    {
      "cell_type": "code",
      "source": [
        "train_data.shape"
      ],
      "metadata": {
        "colab": {
          "base_uri": "https://localhost:8080/"
        },
        "id": "cQhFIFJHQ-0s",
        "outputId": "891267c3-75ea-4ccd-ee31-e42769208298"
      },
      "execution_count": null,
      "outputs": [
        {
          "output_type": "execute_result",
          "data": {
            "text/plain": [
              "(1787, 5)"
            ]
          },
          "metadata": {},
          "execution_count": 6
        }
      ]
    },
    {
      "cell_type": "code",
      "source": [
        "test_data.shape"
      ],
      "metadata": {
        "colab": {
          "base_uri": "https://localhost:8080/"
        },
        "id": "7wuC_yjUQ-xj",
        "outputId": "362a47e0-5890-49f1-c091-bf638f27c947"
      },
      "execution_count": null,
      "outputs": [
        {
          "output_type": "execute_result",
          "data": {
            "text/plain": [
              "(766, 5)"
            ]
          },
          "metadata": {},
          "execution_count": 7
        }
      ]
    },
    {
      "cell_type": "markdown",
      "source": [
        "3. Build an LSTM Autoencoder:\n",
        "\n",
        "    The encoder should reduce the input dimensions to a latent representation.\n",
        "\n",
        "    The decoder should reconstruct the input from the latent representation."
      ],
      "metadata": {
        "id": "HL9UXixdSLpL"
      }
    },
    {
      "cell_type": "code",
      "source": [
        "# Step 3: Build the LSTM Autoencoder\n",
        "model = Sequential([\n",
        "    LSTM(64, activation='relu', input_shape=(sequence_length, 1), return_sequences=True),\n",
        "    LSTM(32, activation='relu', return_sequences=False),\n",
        "    RepeatVector(sequence_length),\n",
        "    LSTM(32, activation='relu', return_sequences=True),\n",
        "    LSTM(64, activation='relu', return_sequences=True),\n",
        "    TimeDistributed(Dense(1))\n",
        "])\n",
        "model.compile(optimizer='adam', loss='mse')\n"
      ],
      "metadata": {
        "colab": {
          "base_uri": "https://localhost:8080/"
        },
        "id": "cCXyTIDpQ-u4",
        "outputId": "9ec5a316-aa28-4f40-9063-206b48ab194c"
      },
      "execution_count": null,
      "outputs": [
        {
          "output_type": "stream",
          "name": "stderr",
          "text": [
            "/usr/local/lib/python3.10/dist-packages/keras/src/layers/rnn/rnn.py:204: UserWarning: Do not pass an `input_shape`/`input_dim` argument to a layer. When using Sequential models, prefer using an `Input(shape)` object as the first layer in the model instead.\n",
            "  super().__init__(**kwargs)\n"
          ]
        }
      ]
    },
    {
      "cell_type": "markdown",
      "source": [
        "4. Train the model: Train the autoencoder on the training data and evaluate the\n",
        "reconstruction error on the test set."
      ],
      "metadata": {
        "id": "hioAM-9cShgM"
      }
    },
    {
      "cell_type": "markdown",
      "source": [
        "**Training Process**   \n",
        "*Loss Values:*\n",
        "The model was trained over 50 epochs, and both the training loss and validation loss decreased consistently, stabilizing towards the end. This indicates the model learned effectively and generalized well to the validation data.    \n",
        "*Final Validation Loss:*\n",
        "The final validation loss is approximately 0.000977. This suggests the autoencoder is reconstructing normal (non-anomalous) data with a high degree of accuracy.\n"
      ],
      "metadata": {
        "id": "H_P4PIgXcpiw"
      }
    },
    {
      "cell_type": "code",
      "source": [
        "# Step 4: Train the model\n",
        "train_data = train_data.reshape((train_data.shape[0], train_data.shape[1], 1))\n",
        "test_data = test_data.reshape((test_data.shape[0], test_data.shape[1], 1))\n",
        "\n",
        "history = model.fit(train_data, train_data, epochs=50, batch_size=16, validation_split=0.1, verbose=1)"
      ],
      "metadata": {
        "colab": {
          "base_uri": "https://localhost:8080/"
        },
        "id": "4tRPwwrvScgb",
        "outputId": "ac3d1158-ff1f-4918-c3b3-18f6b11370e1"
      },
      "execution_count": null,
      "outputs": [
        {
          "output_type": "stream",
          "name": "stdout",
          "text": [
            "Epoch 1/50\n",
            "\u001b[1m101/101\u001b[0m \u001b[32m━━━━━━━━━━━━━━━━━━━━\u001b[0m\u001b[37m\u001b[0m \u001b[1m9s\u001b[0m 19ms/step - loss: 0.1842 - val_loss: 0.0278\n",
            "Epoch 2/50\n",
            "\u001b[1m101/101\u001b[0m \u001b[32m━━━━━━━━━━━━━━━━━━━━\u001b[0m\u001b[37m\u001b[0m \u001b[1m2s\u001b[0m 12ms/step - loss: 0.0118 - val_loss: 0.0027\n",
            "Epoch 3/50\n",
            "\u001b[1m101/101\u001b[0m \u001b[32m━━━━━━━━━━━━━━━━━━━━\u001b[0m\u001b[37m\u001b[0m \u001b[1m1s\u001b[0m 14ms/step - loss: 0.0024 - val_loss: 0.0016\n",
            "Epoch 4/50\n",
            "\u001b[1m101/101\u001b[0m \u001b[32m━━━━━━━━━━━━━━━━━━━━\u001b[0m\u001b[37m\u001b[0m \u001b[1m1s\u001b[0m 12ms/step - loss: 0.0020 - val_loss: 0.0015\n",
            "Epoch 5/50\n",
            "\u001b[1m101/101\u001b[0m \u001b[32m━━━━━━━━━━━━━━━━━━━━\u001b[0m\u001b[37m\u001b[0m \u001b[1m1s\u001b[0m 12ms/step - loss: 0.0019 - val_loss: 0.0016\n",
            "Epoch 6/50\n",
            "\u001b[1m101/101\u001b[0m \u001b[32m━━━━━━━━━━━━━━━━━━━━\u001b[0m\u001b[37m\u001b[0m \u001b[1m2s\u001b[0m 19ms/step - loss: 0.0022 - val_loss: 0.0014\n",
            "Epoch 7/50\n",
            "\u001b[1m101/101\u001b[0m \u001b[32m━━━━━━━━━━━━━━━━━━━━\u001b[0m\u001b[37m\u001b[0m \u001b[1m3s\u001b[0m 24ms/step - loss: 0.0019 - val_loss: 0.0014\n",
            "Epoch 8/50\n",
            "\u001b[1m101/101\u001b[0m \u001b[32m━━━━━━━━━━━━━━━━━━━━\u001b[0m\u001b[37m\u001b[0m \u001b[1m1s\u001b[0m 12ms/step - loss: 0.0019 - val_loss: 0.0014\n",
            "Epoch 9/50\n",
            "\u001b[1m101/101\u001b[0m \u001b[32m━━━━━━━━━━━━━━━━━━━━\u001b[0m\u001b[37m\u001b[0m \u001b[1m2s\u001b[0m 16ms/step - loss: 0.0019 - val_loss: 0.0013\n",
            "Epoch 10/50\n",
            "\u001b[1m101/101\u001b[0m \u001b[32m━━━━━━━━━━━━━━━━━━━━\u001b[0m\u001b[37m\u001b[0m \u001b[1m2s\u001b[0m 14ms/step - loss: 0.0022 - val_loss: 0.0014\n",
            "Epoch 11/50\n",
            "\u001b[1m101/101\u001b[0m \u001b[32m━━━━━━━━━━━━━━━━━━━━\u001b[0m\u001b[37m\u001b[0m \u001b[1m3s\u001b[0m 16ms/step - loss: 0.0020 - val_loss: 0.0013\n",
            "Epoch 12/50\n",
            "\u001b[1m101/101\u001b[0m \u001b[32m━━━━━━━━━━━━━━━━━━━━\u001b[0m\u001b[37m\u001b[0m \u001b[1m1s\u001b[0m 12ms/step - loss: 0.0018 - val_loss: 0.0013\n",
            "Epoch 13/50\n",
            "\u001b[1m101/101\u001b[0m \u001b[32m━━━━━━━━━━━━━━━━━━━━\u001b[0m\u001b[37m\u001b[0m \u001b[1m2s\u001b[0m 19ms/step - loss: 0.0020 - val_loss: 0.0014\n",
            "Epoch 14/50\n",
            "\u001b[1m101/101\u001b[0m \u001b[32m━━━━━━━━━━━━━━━━━━━━\u001b[0m\u001b[37m\u001b[0m \u001b[1m2s\u001b[0m 19ms/step - loss: 0.0020 - val_loss: 0.0013\n",
            "Epoch 15/50\n",
            "\u001b[1m101/101\u001b[0m \u001b[32m━━━━━━━━━━━━━━━━━━━━\u001b[0m\u001b[37m\u001b[0m \u001b[1m1s\u001b[0m 12ms/step - loss: 0.0019 - val_loss: 0.0013\n",
            "Epoch 16/50\n",
            "\u001b[1m101/101\u001b[0m \u001b[32m━━━━━━━━━━━━━━━━━━━━\u001b[0m\u001b[37m\u001b[0m \u001b[1m1s\u001b[0m 12ms/step - loss: 0.0018 - val_loss: 0.0013\n",
            "Epoch 17/50\n",
            "\u001b[1m101/101\u001b[0m \u001b[32m━━━━━━━━━━━━━━━━━━━━\u001b[0m\u001b[37m\u001b[0m \u001b[1m1s\u001b[0m 12ms/step - loss: 0.0016 - val_loss: 0.0013\n",
            "Epoch 18/50\n",
            "\u001b[1m101/101\u001b[0m \u001b[32m━━━━━━━━━━━━━━━━━━━━\u001b[0m\u001b[37m\u001b[0m \u001b[1m1s\u001b[0m 12ms/step - loss: 0.0017 - val_loss: 0.0012\n",
            "Epoch 19/50\n",
            "\u001b[1m101/101\u001b[0m \u001b[32m━━━━━━━━━━━━━━━━━━━━\u001b[0m\u001b[37m\u001b[0m \u001b[1m1s\u001b[0m 12ms/step - loss: 0.0017 - val_loss: 0.0012\n",
            "Epoch 20/50\n",
            "\u001b[1m101/101\u001b[0m \u001b[32m━━━━━━━━━━━━━━━━━━━━\u001b[0m\u001b[37m\u001b[0m \u001b[1m1s\u001b[0m 14ms/step - loss: 0.0015 - val_loss: 0.0011\n",
            "Epoch 21/50\n",
            "\u001b[1m101/101\u001b[0m \u001b[32m━━━━━━━━━━━━━━━━━━━━\u001b[0m\u001b[37m\u001b[0m \u001b[1m1s\u001b[0m 12ms/step - loss: 0.0016 - val_loss: 0.0010\n",
            "Epoch 22/50\n",
            "\u001b[1m101/101\u001b[0m \u001b[32m━━━━━━━━━━━━━━━━━━━━\u001b[0m\u001b[37m\u001b[0m \u001b[1m1s\u001b[0m 13ms/step - loss: 0.0014 - val_loss: 0.0010\n",
            "Epoch 23/50\n",
            "\u001b[1m101/101\u001b[0m \u001b[32m━━━━━━━━━━━━━━━━━━━━\u001b[0m\u001b[37m\u001b[0m \u001b[1m4s\u001b[0m 27ms/step - loss: 0.0014 - val_loss: 0.0010\n",
            "Epoch 24/50\n",
            "\u001b[1m101/101\u001b[0m \u001b[32m━━━━━━━━━━━━━━━━━━━━\u001b[0m\u001b[37m\u001b[0m \u001b[1m4s\u001b[0m 12ms/step - loss: 0.0013 - val_loss: 0.0010\n",
            "Epoch 25/50\n",
            "\u001b[1m101/101\u001b[0m \u001b[32m━━━━━━━━━━━━━━━━━━━━\u001b[0m\u001b[37m\u001b[0m \u001b[1m1s\u001b[0m 12ms/step - loss: 0.0015 - val_loss: 0.0010\n",
            "Epoch 26/50\n",
            "\u001b[1m101/101\u001b[0m \u001b[32m━━━━━━━━━━━━━━━━━━━━\u001b[0m\u001b[37m\u001b[0m \u001b[1m1s\u001b[0m 12ms/step - loss: 0.0014 - val_loss: 9.8942e-04\n",
            "Epoch 27/50\n",
            "\u001b[1m101/101\u001b[0m \u001b[32m━━━━━━━━━━━━━━━━━━━━\u001b[0m\u001b[37m\u001b[0m \u001b[1m1s\u001b[0m 12ms/step - loss: 0.0013 - val_loss: 0.0010\n",
            "Epoch 28/50\n",
            "\u001b[1m101/101\u001b[0m \u001b[32m━━━━━━━━━━━━━━━━━━━━\u001b[0m\u001b[37m\u001b[0m \u001b[1m1s\u001b[0m 12ms/step - loss: 0.0015 - val_loss: 0.0010\n",
            "Epoch 29/50\n",
            "\u001b[1m101/101\u001b[0m \u001b[32m━━━━━━━━━━━━━━━━━━━━\u001b[0m\u001b[37m\u001b[0m \u001b[1m2s\u001b[0m 16ms/step - loss: 0.0015 - val_loss: 9.8241e-04\n",
            "Epoch 30/50\n",
            "\u001b[1m101/101\u001b[0m \u001b[32m━━━━━━━━━━━━━━━━━━━━\u001b[0m\u001b[37m\u001b[0m \u001b[1m2s\u001b[0m 19ms/step - loss: 0.0013 - val_loss: 9.9910e-04\n",
            "Epoch 31/50\n",
            "\u001b[1m101/101\u001b[0m \u001b[32m━━━━━━━━━━━━━━━━━━━━\u001b[0m\u001b[37m\u001b[0m \u001b[1m2s\u001b[0m 14ms/step - loss: 0.0014 - val_loss: 0.0011\n",
            "Epoch 32/50\n",
            "\u001b[1m101/101\u001b[0m \u001b[32m━━━━━━━━━━━━━━━━━━━━\u001b[0m\u001b[37m\u001b[0m \u001b[1m2s\u001b[0m 12ms/step - loss: 0.0014 - val_loss: 0.0010\n",
            "Epoch 33/50\n",
            "\u001b[1m101/101\u001b[0m \u001b[32m━━━━━━━━━━━━━━━━━━━━\u001b[0m\u001b[37m\u001b[0m \u001b[1m1s\u001b[0m 13ms/step - loss: 0.0016 - val_loss: 9.7438e-04\n",
            "Epoch 34/50\n",
            "\u001b[1m101/101\u001b[0m \u001b[32m━━━━━━━━━━━━━━━━━━━━\u001b[0m\u001b[37m\u001b[0m \u001b[1m3s\u001b[0m 13ms/step - loss: 0.0014 - val_loss: 9.8216e-04\n",
            "Epoch 35/50\n",
            "\u001b[1m101/101\u001b[0m \u001b[32m━━━━━━━━━━━━━━━━━━━━\u001b[0m\u001b[37m\u001b[0m \u001b[1m1s\u001b[0m 12ms/step - loss: 0.0014 - val_loss: 9.8269e-04\n",
            "Epoch 36/50\n",
            "\u001b[1m101/101\u001b[0m \u001b[32m━━━━━━━━━━━━━━━━━━━━\u001b[0m\u001b[37m\u001b[0m \u001b[1m1s\u001b[0m 14ms/step - loss: 0.0015 - val_loss: 9.9958e-04\n",
            "Epoch 37/50\n",
            "\u001b[1m101/101\u001b[0m \u001b[32m━━━━━━━━━━━━━━━━━━━━\u001b[0m\u001b[37m\u001b[0m \u001b[1m3s\u001b[0m 18ms/step - loss: 0.0014 - val_loss: 0.0011\n",
            "Epoch 38/50\n",
            "\u001b[1m101/101\u001b[0m \u001b[32m━━━━━━━━━━━━━━━━━━━━\u001b[0m\u001b[37m\u001b[0m \u001b[1m2s\u001b[0m 12ms/step - loss: 0.0015 - val_loss: 9.8183e-04\n",
            "Epoch 39/50\n",
            "\u001b[1m101/101\u001b[0m \u001b[32m━━━━━━━━━━━━━━━━━━━━\u001b[0m\u001b[37m\u001b[0m \u001b[1m1s\u001b[0m 12ms/step - loss: 0.0014 - val_loss: 9.6532e-04\n",
            "Epoch 40/50\n",
            "\u001b[1m101/101\u001b[0m \u001b[32m━━━━━━━━━━━━━━━━━━━━\u001b[0m\u001b[37m\u001b[0m \u001b[1m1s\u001b[0m 13ms/step - loss: 0.0015 - val_loss: 9.9427e-04\n",
            "Epoch 41/50\n",
            "\u001b[1m101/101\u001b[0m \u001b[32m━━━━━━━━━━━━━━━━━━━━\u001b[0m\u001b[37m\u001b[0m \u001b[1m3s\u001b[0m 13ms/step - loss: 0.0014 - val_loss: 9.8198e-04\n",
            "Epoch 42/50\n",
            "\u001b[1m101/101\u001b[0m \u001b[32m━━━━━━━━━━━━━━━━━━━━\u001b[0m\u001b[37m\u001b[0m \u001b[1m3s\u001b[0m 15ms/step - loss: 0.0015 - val_loss: 9.6602e-04\n",
            "Epoch 43/50\n",
            "\u001b[1m101/101\u001b[0m \u001b[32m━━━━━━━━━━━━━━━━━━━━\u001b[0m\u001b[37m\u001b[0m \u001b[1m3s\u001b[0m 20ms/step - loss: 0.0015 - val_loss: 9.7713e-04\n",
            "Epoch 44/50\n",
            "\u001b[1m101/101\u001b[0m \u001b[32m━━━━━━━━━━━━━━━━━━━━\u001b[0m\u001b[37m\u001b[0m \u001b[1m2s\u001b[0m 15ms/step - loss: 0.0014 - val_loss: 9.7738e-04\n",
            "Epoch 45/50\n",
            "\u001b[1m101/101\u001b[0m \u001b[32m━━━━━━━━━━━━━━━━━━━━\u001b[0m\u001b[37m\u001b[0m \u001b[1m1s\u001b[0m 12ms/step - loss: 0.0012 - val_loss: 9.9259e-04\n",
            "Epoch 46/50\n",
            "\u001b[1m101/101\u001b[0m \u001b[32m━━━━━━━━━━━━━━━━━━━━\u001b[0m\u001b[37m\u001b[0m \u001b[1m1s\u001b[0m 13ms/step - loss: 0.0013 - val_loss: 9.8199e-04\n",
            "Epoch 47/50\n",
            "\u001b[1m101/101\u001b[0m \u001b[32m━━━━━━━━━━━━━━━━━━━━\u001b[0m\u001b[37m\u001b[0m \u001b[1m1s\u001b[0m 13ms/step - loss: 0.0014 - val_loss: 9.7041e-04\n",
            "Epoch 48/50\n",
            "\u001b[1m101/101\u001b[0m \u001b[32m━━━━━━━━━━━━━━━━━━━━\u001b[0m\u001b[37m\u001b[0m \u001b[1m2s\u001b[0m 12ms/step - loss: 0.0014 - val_loss: 0.0010\n",
            "Epoch 49/50\n",
            "\u001b[1m101/101\u001b[0m \u001b[32m━━━━━━━━━━━━━━━━━━━━\u001b[0m\u001b[37m\u001b[0m \u001b[1m2s\u001b[0m 16ms/step - loss: 0.0013 - val_loss: 9.7615e-04\n",
            "Epoch 50/50\n",
            "\u001b[1m101/101\u001b[0m \u001b[32m━━━━━━━━━━━━━━━━━━━━\u001b[0m\u001b[37m\u001b[0m \u001b[1m3s\u001b[0m 26ms/step - loss: 0.0013 - val_loss: 9.7754e-04\n"
          ]
        }
      ]
    },
    {
      "cell_type": "markdown",
      "source": [
        "5. Anomaly Detection: Use the reconstruction error to detect anomalies. Define a threshold\n",
        "for the reconstruction error, and identify days where the temperature is considered\n",
        "anomalous."
      ],
      "metadata": {
        "id": "nUTzupMdSoyp"
      }
    },
    {
      "cell_type": "code",
      "source": [
        "# Reconstruct the test data using the trained autoencoder\n",
        "reconstructed_test_data = model.predict(test_data)\n",
        "\n",
        "# Calculate reconstruction error for each sequence in the test set\n",
        "reconstruction_errors = np.mean(np.abs(reconstructed_test_data - test_data), axis=(1, 2))\n",
        "\n",
        "# Calculate overall evaluation metrics\n",
        "mse = mean_squared_error(test_data.flatten(), reconstructed_test_data.flatten())\n",
        "mae = mean_absolute_error(test_data.flatten(), reconstructed_test_data.flatten())\n",
        "\n",
        "print(f\"Mean Squared Error (MSE) on Test Data: {mse}\")\n",
        "print(f\"Mean Absolute Error (MAE) on Test Data: {mae}\")"
      ],
      "metadata": {
        "colab": {
          "base_uri": "https://localhost:8080/"
        },
        "id": "3445iJbLUAui",
        "outputId": "624ccbc0-76ae-4a5e-9462-2cb37da71251"
      },
      "execution_count": null,
      "outputs": [
        {
          "output_type": "stream",
          "name": "stdout",
          "text": [
            "\u001b[1m24/24\u001b[0m \u001b[32m━━━━━━━━━━━━━━━━━━━━\u001b[0m\u001b[37m\u001b[0m \u001b[1m0s\u001b[0m 4ms/step\n",
            "Mean Squared Error (MSE) on Test Data: 0.0014467322890285258\n",
            "Mean Absolute Error (MAE) on Test Data: 0.026444847856560455\n"
          ]
        }
      ]
    },
    {
      "cell_type": "markdown",
      "source": [
        "**Evaluation Metrics**  \n",
        "*Mean Squared Error (MSE):*    \n",
        "0.0014 — This reflects the average squared difference between predicted and actual values on the test set. The small value confirms good performance.    \n",
        "*Mean Absolute Error (MAE):*   \n",
        "0.0264 — This represents the average absolute reconstruction error. Again, the low value indicates accurate reconstruction of the normal data points.\n"
      ],
      "metadata": {
        "id": "Vy7RDEmkc55A"
      }
    },
    {
      "cell_type": "code",
      "source": [
        "# Step 5: Anomaly Detection\n",
        "reconstructed_data = model.predict(test_data)\n",
        "reconstruction_error = np.mean(np.abs(reconstructed_data - test_data), axis=(1, 2))\n",
        "\n",
        "threshold = np.percentile(reconstruction_error, 95)\n",
        "anomalies = reconstruction_error > threshold\n",
        "\n",
        "# Map anomalies back to the original dataset\n",
        "anomalies_indices = np.where(anomalies)[0] + train_size + sequence_length - 1\n",
        "df['anomaly'] = False\n",
        "df.iloc[anomalies_indices, df.columns.get_loc('anomaly')] = True"
      ],
      "metadata": {
        "colab": {
          "base_uri": "https://localhost:8080/"
        },
        "id": "d1Ib7i58Scbj",
        "outputId": "a439cbac-9f7d-4b7e-d430-2ffbc14e2f31"
      },
      "execution_count": null,
      "outputs": [
        {
          "output_type": "stream",
          "name": "stdout",
          "text": [
            "\u001b[1m24/24\u001b[0m \u001b[32m━━━━━━━━━━━━━━━━━━━━\u001b[0m\u001b[37m\u001b[0m \u001b[1m2s\u001b[0m 41ms/step\n"
          ]
        }
      ]
    },
    {
      "cell_type": "code",
      "source": [
        "threshold = np.percentile(reconstruction_errors, 95)\n",
        "print(f\"Anomaly Detection Threshold: {threshold}\")\n",
        "\n",
        "# Identify anomalies in the test data\n",
        "anomalies = reconstruction_errors > threshold\n",
        "anomaly_indices = np.where(anomalies)[0]\n",
        "\n",
        "# Print details about detected anomalies\n",
        "print(f\"Number of anomalies detected: {len(anomaly_indices)}\")\n",
        "print(f\"Indices of anomalies in the test data: {anomaly_indices}\")"
      ],
      "metadata": {
        "colab": {
          "base_uri": "https://localhost:8080/"
        },
        "id": "WyWSBPkmUKY_",
        "outputId": "90cc85d5-37ef-4c91-f547-d1d3144c6a90"
      },
      "execution_count": null,
      "outputs": [
        {
          "output_type": "stream",
          "name": "stdout",
          "text": [
            "Anomaly Detection Threshold: 0.04850602721552783\n",
            "Number of anomalies detected: 39\n",
            "Indices of anomalies in the test data: [ 75  78  79  80  81  82 114 115 116 117 118 137 166 167 168 169 181 234\n",
            " 235 250 251 252 253 329 387 395 396 402 492 493 494 495 651 715 717 718\n",
            " 760 761 762]\n"
          ]
        }
      ]
    },
    {
      "cell_type": "code",
      "source": [
        "# Step 7: Visualize reconstruction error\n",
        "plt.figure(figsize=(10, 6))\n",
        "plt.hist(reconstruction_errors, bins=50, alpha=0.75, label='Reconstruction Error')\n",
        "plt.axvline(threshold, color='r', linestyle='--', label='Threshold')\n",
        "plt.title(\"Reconstruction Error Distribution\")\n",
        "plt.xlabel(\"Reconstruction Error\")\n",
        "plt.ylabel(\"Frequency\")\n",
        "plt.legend()\n",
        "plt.show()"
      ],
      "metadata": {
        "colab": {
          "base_uri": "https://localhost:8080/",
          "height": 564
        },
        "id": "5e-p5RG4URfD",
        "outputId": "8fcbbac1-5424-43ed-ded0-b0b2ff10d8b3"
      },
      "execution_count": null,
      "outputs": [
        {
          "output_type": "display_data",
          "data": {
            "text/plain": [
              "<Figure size 1000x600 with 1 Axes>"
            ],
            "image/png": "[encoded data removed]"
          },
          "metadata": {}
        }
      ]
    },
    {
      "cell_type": "markdown",
      "source": [
        "**Reconstruction Error Analysis**   \n",
        "*Histogram of Reconstruction Errors:*    \n",
        "The reconstruction errors for most data points are clustered around lower values, forming a clear peak. The threshold for anomaly detection (0.0485) was determined based on this distribution, likely using a statistical method (e.g., 95th percentile).    \n",
        "*Threshold and Anomalies:*   \n",
        "Data points with reconstruction errors exceeding 0.0485 were flagged as anomalies. Number of Anomalies Detected: 39 anomalies were detected in the test dataset. Indices of Anomalies: Specific indices of anomalies include [75, 78, 79, ..., 762]. These can be mapped to timestamps or specific events in the dataset for further analysis.\n"
      ],
      "metadata": {
        "id": "0ciGlHb0dNer"
      }
    },
    {
      "cell_type": "markdown",
      "source": [
        "6. Visualize the results: Plot the original temperature data and highlight the detected\n",
        "anomalies."
      ],
      "metadata": {
        "id": "CJnqg7ddS70J"
      }
    },
    {
      "cell_type": "code",
      "source": [
        "# Step 6: Visualize the results\n",
        "plt.figure(figsize=(15, 6))\n",
        "plt.plot(df.index, df['temperature'], label='Temperature')\n",
        "plt.scatter(df.index[df['anomaly']], df['temperature'][df['anomaly']], color='red', label='Anomaly', marker='x')\n",
        "plt.title('Temperature Data with Detected Anomalies')\n",
        "plt.xlabel('Date')\n",
        "plt.ylabel('Temperature')\n",
        "plt.legend()\n",
        "plt.show()"
      ],
      "metadata": {
        "colab": {
          "base_uri": "https://localhost:8080/",
          "height": 436
        },
        "id": "8iKVH63oScY_",
        "outputId": "39619c4e-e7d9-4623-cc07-e8adffaa1f65"
      },
      "execution_count": null,
      "outputs": [
        {
          "output_type": "display_data",
          "data": {
            "text/plain": [
              "<Figure size 1500x600 with 1 Axes>"
            ],
            "image/png": "[encoded data removed]"
          },
          "metadata": {}
        }
      ]
    },
    {
      "cell_type": "markdown",
      "source": [
        "**Overall Interpretation**   \n",
        "*Model Performance:*    \n",
        "The autoencoder model has effectively learned the normal pattern of the temperature data. The low reconstruction errors and stable loss values validate its robustness.\n",
        "\n",
        "*Anomalies:*   \n",
        "Detected anomalies likely represent events or conditions that deviate significantly from the usual temperature patterns.\n",
        "These could be extreme weather events, sensor malfunctions, or unusual environmental conditions.    \n",
        "\n",
        "*Practical Use:*     \n",
        "The identified anomalies can be further analyzed to understand their causes.\n",
        "For instance, if this is environmental monitoring data, the anomalies might represent significant climate events that warrant further investigation.\n"
      ],
      "metadata": {
        "id": "x-aMs444Zl2V"
      }
    }
  ]
}